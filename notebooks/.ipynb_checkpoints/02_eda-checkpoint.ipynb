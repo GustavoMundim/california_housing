{
 "cells": [
  {
   "cell_type": "code",
   "execution_count": 1,
   "id": "3edf7b40-7e3d-4747-a908-4fea67700f11",
   "metadata": {},
   "outputs": [],
   "source": [
    "import pandas as pd\n",
    "from src.config import DADOS_ORIGINAIS"
   ]
  },
  {
   "cell_type": "code",
   "execution_count": 2,
   "id": "1c91c7f8-4b55-4ecd-b363-04f577889b26",
   "metadata": {},
   "outputs": [],
   "source": [
    "df = pd.read_csv(DADOS_ORIGINAIS,compression='zip')"
   ]
  },
  {
   "cell_type": "code",
   "execution_count": null,
   "id": "b79fa051-f715-4b41-bc70-957d5321ca74",
   "metadata": {},
   "outputs": [],
   "source": []
  }
 ],
 "metadata": {
  "kernelspec": {
   "display_name": "Python 3 (ipykernel)",
   "language": "python",
   "name": "python3"
  },
  "language_info": {
   "codemirror_mode": {
    "name": "ipython",
    "version": 3
   },
   "file_extension": ".py",
   "mimetype": "text/x-python",
   "name": "python",
   "nbconvert_exporter": "python",
   "pygments_lexer": "ipython3",
   "version": "3.13.1"
  }
 },
 "nbformat": 4,
 "nbformat_minor": 5
}
